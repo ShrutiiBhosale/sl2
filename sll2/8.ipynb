{
 "cells": [
  {
   "cell_type": "code",
   "execution_count": 1,
   "id": "75ed2f61",
   "metadata": {},
   "outputs": [
    {
     "name": "stdout",
     "output_type": "stream",
     "text": [
      "Category 1:\n",
      "Patterns:\n",
      "[1 0 1 0]\n",
      "[1 1 1 0]\n",
      "Weights:\n",
      "[0.41474413 0.32539067 0.12957621 0.130289  ]\n",
      "\n",
      "Category 2:\n",
      "Patterns:\n",
      "[0 1 0 1]\n",
      "Weights:\n",
      "[0.29130313 0.13987882 0.0865929  0.48222516]\n",
      "\n"
     ]
    }
   ],
   "source": [
    "import numpy as np\n",
    "\n",
    "def initialize_weights(input_dim, category):\n",
    "    weights = np.random.uniform(size=(input_dim,))\n",
    "    weights /= np.sum(weights)\n",
    "    return weights\n",
    "\n",
    "def calculate_similarity(input_pattern, weights):\n",
    "    return np.minimum(input_pattern, weights).sum()\n",
    "\n",
    "def update_weights(input_pattern, weights, vigilance):\n",
    "    while True:\n",
    "        activation = calculate_similarity(input_pattern, weights)\n",
    "        if activation >= vigilance:\n",
    "            return weights\n",
    "        else:\n",
    "            weights[np.argmax(input_pattern)] += 1\n",
    "            weights /= np.sum(weights)\n",
    "\n",
    "def ART_neural_network(input_patterns, vigilance):\n",
    "    num_patterns, input_dim = input_patterns.shape\n",
    "    categories = []\n",
    "\n",
    "    for pattern in input_patterns:\n",
    "        matched_category = None\n",
    "        for category in categories:\n",
    "            if calculate_similarity(pattern, category[\"weights\"]) >= vigilance:\n",
    "                matched_category = category\n",
    "                break\n",
    "\n",
    "        if matched_category is None:\n",
    "            weights = initialize_weights(input_dim, len(categories))\n",
    "            matched_category = {\"weights\": weights, \"patterns\": []}\n",
    "            categories.append(matched_category)\n",
    "\n",
    "        matched_category[\"patterns\"].append(pattern)\n",
    "        matched_category[\"weights\"] = update_weights(pattern, matched_category[\"weights\"], vigilance)\n",
    "\n",
    "    return categories\n",
    "\n",
    "# Example usage\n",
    "input_patterns = np.array([[1, 0, 1, 0], [0, 1, 0, 1], [1, 1, 1, 0]])\n",
    "vigilance = 0.5\n",
    "\n",
    "categories = ART_neural_network(input_patterns, vigilance)\n",
    "\n",
    "# Print the learned categories\n",
    "for i, category in enumerate(categories):\n",
    "    print(f\"Category {i+1}:\")\n",
    "    print(\"Patterns:\")\n",
    "    [print(pattern) for pattern in category[\"patterns\"]]\n",
    "    print(\"Weights:\")\n",
    "    print(category[\"weights\"])\n",
    "    print()"
   ]
  },
  {
   "cell_type": "code",
   "execution_count": null,
   "id": "743f867e",
   "metadata": {},
   "outputs": [],
   "source": []
  }
 ],
 "metadata": {
  "kernelspec": {
   "display_name": "Python (tensorflow)",
   "language": "python",
   "name": "tensorflow"
  },
  "language_info": {
   "codemirror_mode": {
    "name": "ipython",
    "version": 3
   },
   "file_extension": ".py",
   "mimetype": "text/x-python",
   "name": "python",
   "nbconvert_exporter": "python",
   "pygments_lexer": "ipython3",
   "version": "3.10.16"
  }
 },
 "nbformat": 4,
 "nbformat_minor": 5
}
