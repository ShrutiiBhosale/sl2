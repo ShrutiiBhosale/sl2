import numpy as np

# Digits 0-9 represented as flattened 5x3 matrices (15 elements)
digits = {
    0: [1,1,1,
        1,0,1,
        1,0,1,
        1,0,1,
        1,1,1],

    1: [0,1,0,
        1,1,0,
        0,1,0,
        0,1,0,
        1,1,1],

    2: [1,1,1,
        0,0,1,
        1,1,1,
        1,0,0,
        1,1,1],

    3: [1,1,1,
        0,0,1,
        1,1,1,
        0,0,1,
        1,1,1],

    4: [1,0,1,
        1,0,1,
        1,1,1,
        0,0,1,
        0,0,1],

    5: [1,1,1,
        1,0,0,
        1,1,1,
        0,0,1,
        1,1,1],

    6: [1,1,1,
        1,0,0,
        1,1,1,
        1,0,1,
        1,1,1],

    7: [1,1,1,
        0,0,1,
        0,1,0,
        0,1,0,
        0,1,0],

    8: [1,1,1,
        1,0,1,
        1,1,1,
        1,0,1,
        1,1,1],

    9: [1,1,1,
        1,0,1,
        1,1,1,
        0,0,1,
        1,1,1]
}

# Prepare training data
X_train = np.array(list(digits.values()))  # Inputs (10 samples, each 15 features)
y_train = np.eye(10)                       # Labels (10 samples, each one-hot encoded)

# Activation and its derivative
def sigmoid(x):
    return 1 / (1 + np.exp(-x))

def sigmoid_derivative(x):
    return x * (1 - x)

# Initialize weights randomly
np.random.seed(1)
weights = 2 * np.random.random((15, 10)) - 1

# Training
for epoch in range(10000):
    input_layer = X_train
    outputs = sigmoid(np.dot(input_layer, weights))

    error = y_train - outputs
    adjustments = error * sigmoid_derivative(outputs)

    weights += np.dot(input_layer.T, adjustments) * 0.1  # Learning rate = 0.1

# Prediction function
def predict_digit(input_digit):
    output = sigmoid(np.dot(input_digit, weights))
    return np.argmax(output)

# --- Example Testing ---
# Testing with digit 3
test_digit = np.array([
    1,1,1,
    0,0,1,
    1,1,1,
    0,0,1,
    1,1,1
])

predicted = predict_digit(test_digit)
print(f"Predicted Digit: {predicted}"){
 "cells": [
  {
   "cell_type": "code",
   "execution_count": null,
   "id": "64dc179d-1a7d-45c8-8f22-e9ba8e8e548d",
   "metadata": {},
   "outputs": [],
   "source": []
  }
 ],
 "metadata": {
  "kernelspec": {
   "display_name": "",
   "name": ""
  },
  "language_info": {
   "name": ""
  }
 },
 "nbformat": 4,
 "nbformat_minor": 5
}
