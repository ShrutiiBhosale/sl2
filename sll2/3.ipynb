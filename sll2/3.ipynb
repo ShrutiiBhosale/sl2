{
 "cells": [
  {
   "cell_type": "code",
   "execution_count": 28,
   "id": "6516a8eb-2d88-4beb-be56-3f5e796e187e",
   "metadata": {},
   "outputs": [
    {
     "name": "stdin",
     "output_type": "stream",
     "text": [
      "Enter a character:  2\n"
     ]
    },
    {
     "name": "stdout",
     "output_type": "stream",
     "text": [
      "The ASCII value of '2' is even.\n"
     ]
    }
   ],
   "source": [
    "import numpy as np\n",
    "\n",
    "# Step function (activation function)\n",
    "step_function = lambda x: 1 if x >= 0 else 0\n",
    "\n",
    "# Training data: Each number is represented in binary and labeled as 'even' (1) or 'odd' (0)\n",
    "training_data = [\n",
    "    {'input': [1, 1, 0, 0, 0, 0], 'label': 1},  # ASCII 0 (even)\n",
    "    {'input': [1, 1, 0, 0, 0, 1], 'label': 0},  # ASCII 1 (odd)\n",
    "    {'input': [1, 1, 0, 0, 1, 0], 'label': 1},  # ASCII 2 (even)\n",
    "    {'input': [1, 1, 0, 1, 1, 1], 'label': 0},  # ASCII 3 (odd)\n",
    "    {'input': [1, 1, 0, 1, 0, 0], 'label': 1},  # ASCII 4 (even)\n",
    "    {'input': [1, 1, 0, 1, 0, 1], 'label': 0},  # ASCII 5 (odd)\n",
    "    {'input': [1, 1, 0, 1, 1, 0], 'label': 1},  # ASCII 6 (even)\n",
    "    {'input': [1, 1, 0, 1, 1, 1], 'label': 0},  # ASCII 7 (odd)\n",
    "    {'input': [1, 1, 1, 0, 0, 0], 'label': 1},  # ASCII 8 (even)\n",
    "    {'input': [1, 1, 1, 0, 0, 1], 'label': 0},  # ASCII 9 (odd)\n",
    "]\n",
    "\n",
    "# Initialize weights (6 inputs + 1 for bias term)\n",
    "weights = np.array([0, 0, 0, 0, 0, 0])\n",
    "\n",
    "# Training the perceptron using the training data\n",
    "for data in training_data:\n",
    "    inputs = np.array(data['input'])\n",
    "    label = data['label']\n",
    "    \n",
    "    # Calculate the output using the dot product of inputs and weights\n",
    "    output = step_function(np.dot(inputs, weights))\n",
    "    \n",
    "    # Calculate the error (expected - predicted)\n",
    "    error = label - output\n",
    "    \n",
    "    # Update the weights based on the error\n",
    "    weights += inputs * error\n",
    "\n",
    "# Input character from user\n",
    "char = input(\"Enter a character: \")\n",
    "\n",
    "# Get the ASCII value of the entered character\n",
    "ascii_value = ord(char)\n",
    "\n",
    "# Convert the ASCII value to a 6-bit binary representation\n",
    "input_data = np.array([int(x) for x in list('{0:06b}'.format(ascii_value))])\n",
    "\n",
    "# Use the trained perceptron to predict if the ASCII value is even or odd\n",
    "output = \"even\" if step_function(np.dot(input_data, weights)) == 1 else \"odd\"\n",
    "\n",
    "# Print the result\n",
    "print(f\"The ASCII value of '{char}' is {output}.\")"
   ]
  },
  {
   "cell_type": "code",
   "execution_count": null,
   "id": "3aef5d48-844f-4da8-b9a6-95ef09198234",
   "metadata": {},
   "outputs": [],
   "source": []
  }
 ],
 "metadata": {
  "kernelspec": {
   "display_name": "Python (tensorflow)",
   "language": "python",
   "name": "tensorflow"
  },
  "language_info": {
   "codemirror_mode": {
    "name": "ipython",
    "version": 3
   },
   "file_extension": ".py",
   "mimetype": "text/x-python",
   "name": "python",
   "nbconvert_exporter": "python",
   "pygments_lexer": "ipython3",
   "version": "3.10.16"
  }
 },
 "nbformat": 4,
 "nbformat_minor": 5
}
