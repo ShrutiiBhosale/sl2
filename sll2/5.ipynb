{
 "cells": [
  {
   "cell_type": "code",
   "execution_count": null,
   "id": "ecb7656b",
   "metadata": {},
   "outputs": [],
   "source": [
    "import numpy as np\n",
    "from sklearn.neural_network import MLPClassifier\n",
    "digits = {\n",
    "    0: [[1,1,1],[1,0,1],[1,0,1],[1,0,1],[1,1,1]],\n",
    "    1: [[0,1,0],[1,1,0],[0,1,0],[0,1,0],[1,1,1]],\n",
    "    2: [[1,1,1],[0,0,1],[1,1,1],[1,0,0],[1,1,1]],\n",
    "    3: [[1,1,1],[0,0,1],[0,1,1],[0,0,1],[1,1,1]],\n",
    "    4: [[1,0,1],[1,0,1],[1,1,1],[0,0,1],[0,0,1]],\n",
    "    5: [[1,1,1],[1,0,0],[1,1,1],[0,0,1],[1,1,1]],\n",
    "    6: [[1,1,1],[1,0,0],[1,1,1],[1,0,1],[1,1,1]],\n",
    "    7: [[1,1,1],[0,0,1],[0,1,0],[0,1,0],[0,1,0]],\n",
    "    8: [[1,1,1],[1,0,1],[1,1,1],[1,0,1],[1,1,1]],\n",
    "    9: [[1,1,1],[1,0,1],[1,1,1],[0,0,1],[1,1,1]]\n",
    "}\n",
    "X = [np.array(v).flatten() for v in digits.values()]\n",
    "y = list(digits.keys())\n",
    "model = MLPClassifier(hidden_layer_sizes=(10,), max_iter=1000, random_state=42)\n",
    "model.fit(X, y)\n",
    "\n",
    "def get_user_matrix():\n",
    "    print(\"\\nEnter your 5x3 matrix (only 0 and 1):\")\n",
    "    matrix = []\n",
    "    for i in range(5):\n",
    "        row = input(f\"Row {i+1} (like 101): \")\n",
    "        row_list = [int(x) for x in row if x in '01']\n",
    "        matrix.append(row_list)\n",
    "    return matrix\n",
    "\n",
    "\n",
    "user_matrix = get_user_matrix()\n",
    "print(\"\\nYou entered this matrix:\")\n",
    "for row in user_matrix:\n",
    "    print(\" \".join(str(val) for val in row))\n",
    "\n",
    "prediction = model.predict([np.array(user_matrix).flatten()])\n",
    "print(\"\\n Predicted digit is:\", prediction[0])"
   ]
  },
  {
   "cell_type": "code",
   "execution_count": null,
   "id": "22b26e0e-7202-4ad4-8140-0cd1edef8116",
   "metadata": {},
   "outputs": [],
   "source": []
  },
  {
   "cell_type": "code",
   "execution_count": null,
   "id": "516ea937-0aad-4079-8101-cee815794f66",
   "metadata": {},
   "outputs": [],
   "source": []
  }
 ],
 "metadata": {
  "kernelspec": {
   "display_name": "Python (tensorflow)",
   "language": "python",
   "name": "tensorflow"
  },
  "language_info": {
   "codemirror_mode": {
    "name": "ipython",
    "version": 3
   },
   "file_extension": ".py",
   "mimetype": "text/x-python",
   "name": "python",
   "nbconvert_exporter": "python",
   "pygments_lexer": "ipython3",
   "version": "3.10.16"
  }
 },
 "nbformat": 4,
 "nbformat_minor": 5
}
