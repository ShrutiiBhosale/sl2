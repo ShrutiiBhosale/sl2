{
 "cells": [
  {
   "cell_type": "code",
   "execution_count": 1,
   "id": "658e49be-3014-4848-8b24-e6ed85d8a997",
   "metadata": {},
   "outputs": [],
   "source": [
    "import numpy as np\n",
    "import matplotlib.pyplot as plt\n",
    "import tensorflow as tf\n",
    "from tensorflow.keras import layers,models\n",
    "from tensorflow.keras.datasets import fashion_mnist\n",
    "from PIL import Image \n",
    "from sklearn.model_selection import train_test_split"
   ]
  },
  {
   "cell_type": "code",
   "execution_count": 2,
   "id": "09712fdf-5245-4562-bfc2-063b88e9009d",
   "metadata": {},
   "outputs": [],
   "source": [
    "(x_train,y_train),(x_test, y_test) = fashion_mnist.load_data() "
   ]
  },
  {
   "cell_type": "code",
   "execution_count": 3,
   "id": "fb130ee1-3354-4c34-bf46-52043258ae5a",
   "metadata": {},
   "outputs": [],
   "source": [
    "class_names = ['T-shirt/top', 'Trouser', 'Pullover', 'Dress', 'Coat',\n",
    "               'Sandal', 'Shirt', 'Sneaker', 'Bag', 'Ankle boot']"
   ]
  },
  {
   "cell_type": "code",
   "execution_count": 4,
   "id": "dbe8310c-1aca-4432-a305-1859e7613518",
   "metadata": {},
   "outputs": [],
   "source": [
    "x_train = x_train / 255\n",
    "x_test =x_test/255"
   ]
  },
  {
   "cell_type": "code",
   "execution_count": 5,
   "id": "2231adb4-8096-4dc0-939c-4f1c29439cc3",
   "metadata": {},
   "outputs": [],
   "source": [
    "x_train = x_train.reshape(-1, 28, 28, 1)\n",
    "x_test = x_test.reshape(-1, 28, 28, 1)"
   ]
  },
  {
   "cell_type": "code",
   "execution_count": 6,
   "id": "73d0f462-ee9d-49aa-b49f-f42cec3b8501",
   "metadata": {},
   "outputs": [
    {
     "name": "stdout",
     "output_type": "stream",
     "text": [
      "(54000, 28, 28, 1)\n",
      "(54000,)\n"
     ]
    }
   ],
   "source": [
    "\n",
    "x_train_d, x_val, y_train_d, y_val = train_test_split(\n",
    "    x_train, y_train, test_size=0.1, random_state=42\n",
    ")\n",
    "\n",
    "# Now, the number of samples in x_train_d and y_train_d should match\n",
    "print(x_train_d.shape)  # Should match y_train_d shape\n",
    "print(y_train_d.shape)  # Should match x_train_d shape\n"
   ]
  },
  {
   "cell_type": "code",
   "execution_count": 7,
   "id": "615528c8-235a-48a8-82f7-9edd6e204e59",
   "metadata": {},
   "outputs": [],
   "source": [
    "model = models.Sequential([\n",
    "    layers.Conv2D(32, (3, 3), activation='relu', input_shape=(28, 28, 1)),\n",
    "    layers.MaxPooling2D((2, 2)),\n",
    "    layers.Conv2D(64, (3, 3), activation='relu'),\n",
    "    layers.MaxPooling2D((2, 2)),\n",
    "    layers.Flatten(),\n",
    "    layers.Dense(64, activation='relu'),\n",
    "    layers.Dense(10, activation='softmax')\n",
    "])"
   ]
  },
  {
   "cell_type": "code",
   "execution_count": 8,
   "id": "7aed8979-3dc2-458c-9c1b-457e002f7c99",
   "metadata": {},
   "outputs": [],
   "source": [
    "model.compile(optimizer='adam',\n",
    "              loss='sparse_categorical_crossentropy',\n",
    "              metrics=['accuracy'])"
   ]
  },
  {
   "cell_type": "code",
   "execution_count": 9,
   "id": "77348a56-36f6-499a-897d-4d09d848e1a7",
   "metadata": {},
   "outputs": [
    {
     "name": "stdout",
     "output_type": "stream",
     "text": [
      "Epoch 1/5\n",
      "1688/1688 [==============================] - 13s 8ms/step - loss: 0.4967 - accuracy: 0.8186 - val_loss: 0.3649 - val_accuracy: 0.8633\n",
      "Epoch 2/5\n",
      "1688/1688 [==============================] - 13s 8ms/step - loss: 0.3368 - accuracy: 0.8787 - val_loss: 0.3390 - val_accuracy: 0.8770\n",
      "Epoch 3/5\n",
      "1688/1688 [==============================] - 13s 7ms/step - loss: 0.2891 - accuracy: 0.8947 - val_loss: 0.2814 - val_accuracy: 0.8988\n",
      "Epoch 4/5\n",
      "1688/1688 [==============================] - 13s 8ms/step - loss: 0.2575 - accuracy: 0.9054 - val_loss: 0.2704 - val_accuracy: 0.8975\n",
      "Epoch 5/5\n",
      "1688/1688 [==============================] - 13s 8ms/step - loss: 0.2323 - accuracy: 0.9149 - val_loss: 0.2607 - val_accuracy: 0.9025\n"
     ]
    }
   ],
   "source": [
    "history = model.fit(x_train_d, y_train_d, epochs=5, validation_data=(x_val, y_val))"
   ]
  },
  {
   "cell_type": "code",
   "execution_count": 10,
   "id": "c4ce18eb-25e0-41e9-baa7-10ab237f000f",
   "metadata": {},
   "outputs": [
    {
     "name": "stdout",
     "output_type": "stream",
     "text": [
      "313/313 [==============================] - 1s 3ms/step - loss: 0.2793 - accuracy: 0.8975\n"
     ]
    }
   ],
   "source": [
    "test_accuracy,test_val= model.evaluate(x_test,y_test)"
   ]
  },
  {
   "cell_type": "code",
   "execution_count": 11,
   "id": "33266c45-6d49-43b9-8288-f6b224b2d054",
   "metadata": {},
   "outputs": [
    {
     "name": "stdout",
     "output_type": "stream",
     "text": [
      "313/313 [==============================] - 1s 3ms/step\n"
     ]
    }
   ],
   "source": [
    "prediction = model.predict(x_test)"
   ]
  },
  {
   "cell_type": "code",
   "execution_count": 12,
   "id": "e7aca82d-6562-4ee9-923c-2561c462e87e",
   "metadata": {},
   "outputs": [
    {
     "data": {
      "image/png": "[encoded data removed]",
      "text/plain": [
       "<Figure size 640x480 with 1 Axes>"
      ]
     },
     "metadata": {},
     "output_type": "display_data"
    }
   ],
   "source": [
    "idx = 4\n",
    "plt.imshow(x_test[idx].reshape(28,28),cmap=\"gray\")\n",
    "plt.title(f\"Predicted: {class_names[np.argmax(prediction[idx])]}\")\n",
    "plt.show()"
   ]
  },
  {
   "cell_type": "code",
   "execution_count": null,
   "id": "77a7bb38-6d2f-4661-8cf3-b025ff006d03",
   "metadata": {},
   "outputs": [],
   "source": []
  }
 ],
 "metadata": {
  "kernelspec": {
   "display_name": "Python (tensorflow)",
   "language": "python",
   "name": "tensorflow"
  },
  "language_info": {
   "codemirror_mode": {
    "name": "ipython",
    "version": 3
   },
   "file_extension": ".py",
   "mimetype": "text/x-python",
   "name": "python",
   "nbconvert_exporter": "python",
   "pygments_lexer": "ipython3",
   "version": "3.10.16"
  }
 },
 "nbformat": 4,
 "nbformat_minor": 5
}
