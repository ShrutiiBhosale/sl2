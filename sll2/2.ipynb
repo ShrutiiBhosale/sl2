{
 "cells": [
  {
   "cell_type": "code",
   "execution_count": 3,
   "id": "9698b1b6-af50-4d9b-bbaf-2e4c6f21a85e",
   "metadata": {},
   "outputs": [
    {
     "name": "stdout",
     "output_type": "stream",
     "text": [
      "0\n",
      "1\n",
      "0\n",
      "0\n"
     ]
    }
   ],
   "source": [
    "import numpy as np\n",
    "def mp_neuron(inputs, weights,bias, threshold):\n",
    "    weighted_sum = np.dot(inputs, weights)+bias\n",
    "    output = 1 if weighted_sum >= threshold else 0\n",
    "    return output\n",
    "def and_not(x1, x2):\n",
    "    weights = [1, -1] \n",
    "    threshold = 1   \n",
    "    bias =0.5\n",
    "    inputs = np.array([x1, x2])\n",
    "    output = mp_neuron(inputs, weights,bias, threshold)\n",
    "    return output\n",
    "print(and_not(0, 0)) \n",
    "print(and_not(1, 0))  \n",
    "print(and_not(0, 1))  \n",
    "print(and_not(1, 1))"
   ]
  }
 ],
 "metadata": {
  "kernelspec": {
   "display_name": "Python (tensorflow)",
   "language": "python",
   "name": "tensorflow"
  },
  "language_info": {
   "codemirror_mode": {
    "name": "ipython",
    "version": 3
   },
   "file_extension": ".py",
   "mimetype": "text/x-python",
   "name": "python",
   "nbconvert_exporter": "python",
   "pygments_lexer": "ipython3",
   "version": "3.10.16"
  }
 },
 "nbformat": 4,
 "nbformat_minor": 5
}
